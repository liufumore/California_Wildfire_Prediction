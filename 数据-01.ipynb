{
 "cells": [
  {
   "cell_type": "code",
   "execution_count": 1,
   "metadata": {},
   "outputs": [
    {
     "name": "stdout",
     "output_type": "stream",
     "text": [
      "california_fire_data.csv 文件已生成。\n"
     ]
    }
   ],
   "source": [
    "import pandas as pd\n",
    "import numpy as np\n",
    "\n",
    "# 设置随机种子以获得可重复的结果\n",
    "np.random.seed(0)\n",
    "\n",
    "# 生成模拟数据\n",
    "n_samples = 1000  # 数据样本数量\n",
    "\n",
    "# 山火发生日期\n",
    "dates = pd.date_range(start='2020-01-01', end='2024-12-31', periods=n_samples)\n",
    "\n",
    "# 温度（摄氏度）\n",
    "temperatures = np.random.uniform(20, 40, n_samples)\n",
    "\n",
    "# 湿度（百分比）\n",
    "humidities = np.random.uniform(20, 100, n_samples)\n",
    "\n",
    "# 风速（公里/小时）\n",
    "wind_speeds = np.random.uniform(0, 20, n_samples)\n",
    "\n",
    "# 燃料类型（森林、草地、灌木）\n",
    "fuel_types = np.random.choice(['forest', 'grassland', 'shrub'], n_samples)\n",
    "\n",
    "# 山火风险等级（0-1之间，数值越大表示风险越高）\n",
    "fire_risks = np.random.uniform(0, 1, n_samples)\n",
    "\n",
    "# 创建DataFrame\n",
    "fire_data = pd.DataFrame({\n",
    "    'date': dates,\n",
    "    'temperature': temperatures,\n",
    "    'humidity': humidities,\n",
    "    'wind_speed': wind_speeds,\n",
    "    'fuel_type': fuel_types,\n",
    "    'fire_risk': fire_risks\n",
    "})\n",
    "\n",
    "# 将DataFrame保存为CSV文件\n",
    "fire_data.to_csv('california_fire_data.csv', index=False)\n",
    "\n",
    "print(\"california_fire_data.csv 文件已生成。\")"
   ]
  },
  {
   "cell_type": "code",
   "execution_count": 2,
   "metadata": {},
   "outputs": [
    {
     "name": "stdout",
     "output_type": "stream",
     "text": [
      "real_time_satellite_data.csv 文件已生成。\n"
     ]
    }
   ],
   "source": [
    "import pandas as pd\n",
    "import numpy as np\n",
    "\n",
    "# 设置随机种子以获得可重复的结果\n",
    "np.random.seed(0)\n",
    "\n",
    "# 生成模拟数据\n",
    "n_samples = 100  # 数据样本数量\n",
    "\n",
    "# 温度（摄氏度）\n",
    "temperatures = np.random.uniform(20, 40, n_samples)\n",
    "\n",
    "# 湿度（百分比）\n",
    "humidities = np.random.uniform(20, 100, n_samples)\n",
    "\n",
    "# 风速（公里/小时）\n",
    "wind_speeds = np.random.uniform(0, 20, n_samples)\n",
    "\n",
    "# 燃料类型（森林、草地、灌木）\n",
    "fuel_types = np.random.choice(['forest', 'grassland', 'shrub'], n_samples)\n",
    "\n",
    "# 创建DataFrame\n",
    "real_time_satellite_data = pd.DataFrame({\n",
    "    'temperature': temperatures,\n",
    "    'humidity': humidities,\n",
    "    'wind_speed': wind_speeds,\n",
    "    'fuel_type': fuel_types\n",
    "})\n",
    "\n",
    "# 将DataFrame保存为CSV文件\n",
    "real_time_satellite_data.to_csv('real_time_satellite_data.csv', index=False)\n",
    "\n",
    "print(\"real_time_satellite_data.csv 文件已生成。\")"
   ]
  },
  {
   "cell_type": "code",
   "execution_count": 5,
   "metadata": {},
   "outputs": [
    {
     "name": "stdout",
     "output_type": "stream",
     "text": [
      "Excel files have been created and saved successfully.\n"
     ]
    }
   ],
   "source": [
    "import pandas as pd\n",
    "import numpy as np\n",
    "\n",
    "# 设置随机种子以确保结果可复现\n",
    "np.random.seed(42)\n",
    "\n",
    "# 生成california_fire_data.xlsx的数据\n",
    "n_samples = 1000\n",
    "\n",
    "# 创建温度、湿度和风速的随机数据\n",
    "temperature = np.random.uniform(15, 35, n_samples)\n",
    "humidity = np.random.uniform(20, 80, n_samples)\n",
    "wind_speed = np.random.uniform(0, 20, n_samples)\n",
    "\n",
    "# 创建燃料类型的随机数据\n",
    "fuel_types = ['wood', 'grass', 'shrub', 'forest']\n",
    "fuel_type = np.random.choice(fuel_types, size=n_samples)\n",
    "\n",
    "# 创建火灾风险的随机数据\n",
    "fire_risk = np.random.uniform(0, 1, n_samples)\n",
    "\n",
    "# 创建DataFrame\n",
    "california_fire_data = pd.DataFrame({\n",
    "    'temperature': temperature,\n",
    "    'humidity': humidity,\n",
    "    'wind_speed': wind_speed,\n",
    "    'fuel_type': fuel_type,\n",
    "    'fire_risk': fire_risk\n",
    "})\n",
    "\n",
    "# 保存为Excel文件\n",
    "california_fire_data.to_excel('california_fire_data.xlsx', index=False)\n",
    "\n",
    "# 生成real_time_satellite_data.xlsx的数据\n",
    "n_samples = 1000\n",
    "\n",
    "# 创建温度、湿度和风速的随机数据\n",
    "temperature = np.random.uniform(15, 35, n_samples)\n",
    "humidity = np.random.uniform(20, 80, n_samples)\n",
    "wind_speed = np.random.uniform(0, 20, n_samples)\n",
    "\n",
    "# 创建燃料类型的随机数据\n",
    "fuel_type = np.random.choice(fuel_types, size=n_samples)\n",
    "\n",
    "# 创建DataFrame\n",
    "real_time_satellite_data = pd.DataFrame({\n",
    "    'temperature': temperature,\n",
    "    'humidity': humidity,\n",
    "    'wind_speed': wind_speed,\n",
    "    'fuel_type': fuel_type\n",
    "})\n",
    "\n",
    "# 保存为Excel文件\n",
    "real_time_satellite_data.to_excel('real_time_satellite_data.xlsx', index=False)\n",
    "\n",
    "print(\"Excel files have been created and saved successfully.\")"
   ]
  },
  {
   "cell_type": "code",
   "execution_count": null,
   "metadata": {},
   "outputs": [],
   "source": []
  }
 ],
 "metadata": {
  "kernelspec": {
   "display_name": "Python 3 (ipykernel)",
   "language": "python",
   "name": "python3"
  },
  "language_info": {
   "codemirror_mode": {
    "name": "ipython",
    "version": 3
   },
   "file_extension": ".py",
   "mimetype": "text/x-python",
   "name": "python",
   "nbconvert_exporter": "python",
   "pygments_lexer": "ipython3",
   "version": "3.9.10"
  }
 },
 "nbformat": 4,
 "nbformat_minor": 4
}